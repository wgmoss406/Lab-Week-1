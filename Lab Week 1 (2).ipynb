{
 "cells": [
  {
   "cell_type": "code",
   "execution_count": 2,
   "metadata": {},
   "outputs": [],
   "source": [
    "def calc_alpha(d_length, length, d_temp):\n",
    "\talpha = d_length / (length * d_temp)\n",
    "\treturn alpha"
   ]
  },
  {
   "cell_type": "code",
   "execution_count": 3,
   "metadata": {},
   "outputs": [],
   "source": [
    "def rule3(uncert1, uncert2):\n",
    "    uncert = ((uncert1)**2+(uncert2)**2)**.5\n",
    "    return uncert"
   ]
  },
  {
   "cell_type": "code",
   "execution_count": 4,
   "metadata": {},
   "outputs": [],
   "source": [
    "def rule4(var, var1, exp_var1, uncert_var1, var2, exp_var2, uncert_var2, var3, exp_var3, uncert_var3):\n",
    "    uncert_var = var*(((exp_var1*(uncert_var1/var1))**2)+((exp_var2*(uncert_var2/var2))**2)+((exp_var3*(uncert_var3/var3))**2))**.5\n",
    "    return(uncert_var)"
   ]
  },
  {
   "cell_type": "code",
   "execution_count": 5,
   "metadata": {},
   "outputs": [
    {
     "name": "stdout",
     "output_type": "stream",
     "text": [
      "69.1\n"
     ]
    }
   ],
   "source": [
    "L = 1.05#m\n",
    "uncert_L = .001#m\n",
    "change_L = .00125#m\n",
    "uncert_change_L = .0001#m\n",
    "t_init = 23.4#C\n",
    "t_final = 92.5#C\n",
    "uncert_t_init = 0.3#C\n",
    "uncert_t_final = 0.1#C\n",
    "change_t = t_final-t_init\n",
    "print(change_t)"
   ]
  },
  {
   "cell_type": "code",
   "execution_count": 21,
   "metadata": {},
   "outputs": [
    {
     "name": "stdout",
     "output_type": "stream",
     "text": [
      "The value for alpha is 0.0000172/K.\n"
     ]
    }
   ],
   "source": [
    "alpha = calc_alpha(change_L, L, change_t)\n",
    "print('The value for alpha is %.7f/K.' % (alpha))"
   ]
  },
  {
   "cell_type": "code",
   "execution_count": 24,
   "metadata": {},
   "outputs": [
    {
     "name": "stdout",
     "output_type": "stream",
     "text": [
      "The uncertainty for the temperature is 0.316K.\n"
     ]
    }
   ],
   "source": [
    "uncert_t = rule3(uncert_t_init, uncert_t_final)\n",
    "print('The uncertainty for the temperature is %.3fK.' % (uncert_t))"
   ]
  },
  {
   "cell_type": "code",
   "execution_count": 26,
   "metadata": {},
   "outputs": [
    {
     "name": "stdout",
     "output_type": "stream",
     "text": [
      "The uncertainty of alpha is 0.00000138/K.\n"
     ]
    }
   ],
   "source": [
    "uncert_a = rule4(alpha, L, -1, uncert_L, change_L, 1, uncert_change_L, t_final-t_init, -1, uncert_t)\n",
    "print('The uncertainty of alpha is %.8f/K.' % (uncert_a))"
   ]
  },
  {
   "cell_type": "code",
   "execution_count": 29,
   "metadata": {},
   "outputs": [
    {
     "name": "stdout",
     "output_type": "stream",
     "text": [
      "alpha = 0.0000172/K +- 0.0000014/K\n"
     ]
    }
   ],
   "source": [
    "print('alpha = %.7f/K +- %.7f/K' % (alpha, uncert_a))"
   ]
  },
  {
   "cell_type": "code",
   "execution_count": null,
   "metadata": {},
   "outputs": [],
   "source": []
  }
 ],
 "metadata": {
  "kernelspec": {
   "display_name": "Python 3",
   "language": "python",
   "name": "python3"
  },
  "language_info": {
   "codemirror_mode": {
    "name": "ipython",
    "version": 3
   },
   "file_extension": ".py",
   "mimetype": "text/x-python",
   "name": "python",
   "nbconvert_exporter": "python",
   "pygments_lexer": "ipython3",
   "version": "3.7.1"
  }
 },
 "nbformat": 4,
 "nbformat_minor": 2
}
